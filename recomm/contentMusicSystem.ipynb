{
 "cells": [
  {
   "cell_type": "code",
   "execution_count": 25,
   "id": "afb6fecb",
   "metadata": {},
   "outputs": [],
   "source": [
    "import numpy as np\n",
    "import pandas as pd"
   ]
  },
  {
   "cell_type": "code",
   "execution_count": 26,
   "id": "ab70dc4a",
   "metadata": {},
   "outputs": [],
   "source": [
    "from typing import List, Dict"
   ]
  },
  {
   "cell_type": "code",
   "execution_count": 27,
   "id": "ccca2004",
   "metadata": {},
   "outputs": [],
   "source": [
    "from sklearn.feature_extraction.text import TfidfVectorizer\n",
    "from sklearn.metrics.pairwise import cosine_similarity\n"
   ]
  },
  {
   "cell_type": "code",
   "execution_count": 28,
   "id": "875cc846",
   "metadata": {},
   "outputs": [],
   "source": [
    "songs = pd.read_csv('songdata.csv')"
   ]
  },
  {
   "cell_type": "code",
   "execution_count": 29,
   "id": "6164ceff",
   "metadata": {},
   "outputs": [
    {
     "data": {
      "text/html": [
       "<div>\n",
       "<style scoped>\n",
       "    .dataframe tbody tr th:only-of-type {\n",
       "        vertical-align: middle;\n",
       "    }\n",
       "\n",
       "    .dataframe tbody tr th {\n",
       "        vertical-align: top;\n",
       "    }\n",
       "\n",
       "    .dataframe thead th {\n",
       "        text-align: right;\n",
       "    }\n",
       "</style>\n",
       "<table border=\"1\" class=\"dataframe\">\n",
       "  <thead>\n",
       "    <tr style=\"text-align: right;\">\n",
       "      <th></th>\n",
       "      <th>artist</th>\n",
       "      <th>song</th>\n",
       "      <th>link</th>\n",
       "      <th>text</th>\n",
       "    </tr>\n",
       "  </thead>\n",
       "  <tbody>\n",
       "    <tr>\n",
       "      <th>0</th>\n",
       "      <td>ABBA</td>\n",
       "      <td>Ahe's My Kind Of Girl</td>\n",
       "      <td>/a/abba/ahes+my+kind+of+girl_20598417.html</td>\n",
       "      <td>Look at her face, it's a wonderful face  \\nAnd...</td>\n",
       "    </tr>\n",
       "    <tr>\n",
       "      <th>1</th>\n",
       "      <td>ABBA</td>\n",
       "      <td>Andante, Andante</td>\n",
       "      <td>/a/abba/andante+andante_20002708.html</td>\n",
       "      <td>Take it easy with me, please  \\nTouch me gentl...</td>\n",
       "    </tr>\n",
       "    <tr>\n",
       "      <th>2</th>\n",
       "      <td>ABBA</td>\n",
       "      <td>As Good As New</td>\n",
       "      <td>/a/abba/as+good+as+new_20003033.html</td>\n",
       "      <td>I'll never know why I had to go  \\nWhy I had t...</td>\n",
       "    </tr>\n",
       "    <tr>\n",
       "      <th>3</th>\n",
       "      <td>ABBA</td>\n",
       "      <td>Bang</td>\n",
       "      <td>/a/abba/bang_20598415.html</td>\n",
       "      <td>Making somebody happy is a question of give an...</td>\n",
       "    </tr>\n",
       "    <tr>\n",
       "      <th>4</th>\n",
       "      <td>ABBA</td>\n",
       "      <td>Bang-A-Boomerang</td>\n",
       "      <td>/a/abba/bang+a+boomerang_20002668.html</td>\n",
       "      <td>Making somebody happy is a question of give an...</td>\n",
       "    </tr>\n",
       "  </tbody>\n",
       "</table>\n",
       "</div>"
      ],
      "text/plain": [
       "  artist                   song                                        link  \\\n",
       "0   ABBA  Ahe's My Kind Of Girl  /a/abba/ahes+my+kind+of+girl_20598417.html   \n",
       "1   ABBA       Andante, Andante       /a/abba/andante+andante_20002708.html   \n",
       "2   ABBA         As Good As New        /a/abba/as+good+as+new_20003033.html   \n",
       "3   ABBA                   Bang                  /a/abba/bang_20598415.html   \n",
       "4   ABBA       Bang-A-Boomerang      /a/abba/bang+a+boomerang_20002668.html   \n",
       "\n",
       "                                                text  \n",
       "0  Look at her face, it's a wonderful face  \\nAnd...  \n",
       "1  Take it easy with me, please  \\nTouch me gentl...  \n",
       "2  I'll never know why I had to go  \\nWhy I had t...  \n",
       "3  Making somebody happy is a question of give an...  \n",
       "4  Making somebody happy is a question of give an...  "
      ]
     },
     "execution_count": 29,
     "metadata": {},
     "output_type": "execute_result"
    }
   ],
   "source": [
    "songs.head()"
   ]
  },
  {
   "cell_type": "code",
   "execution_count": 30,
   "id": "c22a6ab1",
   "metadata": {},
   "outputs": [],
   "source": [
    "songs = songs.sample(n=5000).drop('link', axis=1).reset_index(drop=True)"
   ]
  },
  {
   "cell_type": "code",
   "execution_count": 31,
   "id": "c2ce15ce",
   "metadata": {},
   "outputs": [
    {
     "name": "stderr",
     "output_type": "stream",
     "text": [
      "C:\\Users\\tarun kumar\\AppData\\Local\\Temp\\ipykernel_17340\\269676193.py:1: FutureWarning: The default value of regex will change from True to False in a future version.\n",
      "  songs['text'] = songs['text'].str.replace(r'\\n', '')\n"
     ]
    }
   ],
   "source": [
    "songs['text'] = songs['text'].str.replace(r'\\n', '')"
   ]
  },
  {
   "cell_type": "code",
   "execution_count": 32,
   "id": "d448d8e5",
   "metadata": {},
   "outputs": [],
   "source": [
    "tfidf = TfidfVectorizer(analyzer='word', stop_words='english')"
   ]
  },
  {
   "cell_type": "code",
   "execution_count": 33,
   "id": "01eae80e",
   "metadata": {},
   "outputs": [],
   "source": [
    "lyrics_matrix = tfidf.fit_transform(songs['text'])"
   ]
  },
  {
   "cell_type": "code",
   "execution_count": 34,
   "id": "ba5aa6a5",
   "metadata": {},
   "outputs": [],
   "source": [
    "cosine_similarities = cosine_similarity(lyrics_matrix) "
   ]
  },
  {
   "cell_type": "code",
   "execution_count": 35,
   "id": "a5d38014",
   "metadata": {},
   "outputs": [],
   "source": [
    "similarities = {}"
   ]
  },
  {
   "cell_type": "code",
   "execution_count": 36,
   "id": "304d4a73",
   "metadata": {},
   "outputs": [],
   "source": [
    "for i in range(len(cosine_similarities)):\n",
    "    # Now we'll sort each element in cosine_similarities and get the indexes of the songs. \n",
    "    similar_indices = cosine_similarities[i].argsort()[:-50:-1] \n",
    "    # After that, we'll store in similarities each name of the 50 most similar songs.\n",
    "    # Except the first one that is the same song.\n",
    "    similarities[songs['song'].iloc[i]] = [(cosine_similarities[i][x], songs['song'][x], songs['artist'][x]) for x in similar_indices][1:]"
   ]
  },
  {
   "cell_type": "code",
   "execution_count": 37,
   "id": "781e421c",
   "metadata": {},
   "outputs": [],
   "source": [
    "class ContentBasedRecommender:\n",
    "    def __init__(self, matrix):\n",
    "        self.matrix_similar = matrix\n",
    "\n",
    "    def _print_message(self, song, recom_song):\n",
    "        rec_items = len(recom_song)\n",
    "        \n",
    "        print(f'The {rec_items} recommended songs for {song} are:')\n",
    "        for i in range(rec_items):\n",
    "            print(f\"Number {i+1}:\")\n",
    "            print(f\"{recom_song[i][1]} by {recom_song[i][2]} with {round(recom_song[i][0], 3)} similarity score\") \n",
    "            print(\"--------------------\")\n",
    "        \n",
    "    def recommend(self, recommendation):\n",
    "        # Get song to find recommendations for\n",
    "        song = recommendation['song']\n",
    "        # Get number of songs to recommend\n",
    "        number_songs = recommendation['number_songs']\n",
    "        # Get the number of songs most similars from matrix similarities\n",
    "        recom_song = self.matrix_similar[song][:number_songs]\n",
    "        # print each item\n",
    "        self._print_message(song=song, recom_song=recom_song)"
   ]
  },
  {
   "cell_type": "code",
   "execution_count": 38,
   "id": "8872ff6a",
   "metadata": {},
   "outputs": [],
   "source": [
    "recommedations = ContentBasedRecommender(similarities)"
   ]
  },
  {
   "cell_type": "code",
   "execution_count": 39,
   "id": "549be218",
   "metadata": {},
   "outputs": [],
   "source": [
    "recommendation = {\n",
    "    \"song\": songs['song'].iloc[10],\n",
    "    \"number_songs\": 4 \n",
    "}"
   ]
  },
  {
   "cell_type": "code",
   "execution_count": 40,
   "id": "d94cc35e",
   "metadata": {
    "scrolled": false
   },
   "outputs": [
    {
     "name": "stdout",
     "output_type": "stream",
     "text": [
      "The 4 recommended songs for Come Cover Me are:\n",
      "Number 1:\n",
      "I Will Come To You by Hanson with 0.235 similarity score\n",
      "--------------------\n",
      "Number 2:\n",
      "Graffiti by Chris Brown with 0.217 similarity score\n",
      "--------------------\n",
      "Number 3:\n",
      "Kissin' Time by Marianne Faithfull with 0.217 similarity score\n",
      "--------------------\n",
      "Number 4:\n",
      "Back Where I Come From by Kenny Chesney with 0.201 similarity score\n",
      "--------------------\n"
     ]
    }
   ],
   "source": [
    "recommedations.recommend(recommendation)"
   ]
  },
  {
   "cell_type": "code",
   "execution_count": 17,
   "id": "c075caa7",
   "metadata": {},
   "outputs": [],
   "source": [
    "recommendation2 = {\n",
    "    \"song\": songs['song'].iloc[12],\n",
    "    \"number_songs\": 5 \n",
    "}"
   ]
  },
  {
   "cell_type": "code",
   "execution_count": 18,
   "id": "1f5dc9cc",
   "metadata": {},
   "outputs": [
    {
     "name": "stdout",
     "output_type": "stream",
     "text": [
      "The 5 recommended songs for Never Know Why are:\n",
      "Number 1:\n",
      "I Go To The Rock by Whitney Houston with 0.801 similarity score\n",
      "--------------------\n",
      "Number 2:\n",
      "Ya' Keep On by Kid Rock with 0.784 similarity score\n",
      "--------------------\n",
      "Number 3:\n",
      "I Go To The Rock by Wanda Jackson with 0.728 similarity score\n",
      "--------------------\n",
      "Number 4:\n",
      "Rock With You by Michael Jackson with 0.697 similarity score\n",
      "--------------------\n",
      "Number 5:\n",
      "Rollin' The Rock by Uriah Heep with 0.675 similarity score\n",
      "--------------------\n"
     ]
    }
   ],
   "source": [
    "recommedations.recommend(recommendation2)"
   ]
  },
  {
   "cell_type": "code",
   "execution_count": 19,
   "id": "359bc006",
   "metadata": {},
   "outputs": [],
   "source": [
    "recommendation3 = {\n",
    "    \"song\": songs['song'].iloc[1],\n",
    "    \"number_songs\": 5 \n",
    "}"
   ]
  },
  {
   "cell_type": "code",
   "execution_count": 20,
   "id": "5425e437",
   "metadata": {},
   "outputs": [
    {
     "name": "stdout",
     "output_type": "stream",
     "text": [
      "The 5 recommended songs for Testimonial (Intro) are:\n",
      "Number 1:\n",
      "God Thank You Woman by Culture Club with 0.167 similarity score\n",
      "--------------------\n",
      "Number 2:\n",
      "God Is Love by Lenny Kravitz with 0.144 similarity score\n",
      "--------------------\n",
      "Number 3:\n",
      "Muddy, Sam And Otis by Rod Stewart with 0.133 similarity score\n",
      "--------------------\n",
      "Number 4:\n",
      "Melting Pot by Pitbull with 0.133 similarity score\n",
      "--------------------\n",
      "Number 5:\n",
      "Thank God For The Bomb by Ozzy Osbourne with 0.129 similarity score\n",
      "--------------------\n"
     ]
    }
   ],
   "source": [
    "recommedations.recommend(recommendation3)"
   ]
  },
  {
   "cell_type": "code",
   "execution_count": 21,
   "id": "c9804061",
   "metadata": {},
   "outputs": [],
   "source": [
    "recommendation4 = {\n",
    "    \"song\": songs['song'].iloc[2],\n",
    "    \"number_songs\": 10\n",
    "}"
   ]
  },
  {
   "cell_type": "code",
   "execution_count": 22,
   "id": "d3aaf212",
   "metadata": {},
   "outputs": [
    {
     "name": "stdout",
     "output_type": "stream",
     "text": [
      "The 10 recommended songs for Discussing Wallace Chambers are:\n",
      "Number 1:\n",
      "Sweep Me Away by Kari Jobe with 0.087 similarity score\n",
      "--------------------\n",
      "Number 2:\n",
      "Enter by Within Temptation with 0.065 similarity score\n",
      "--------------------\n",
      "Number 3:\n",
      "The Fishing Song by Arrogant Worms with 0.053 similarity score\n",
      "--------------------\n",
      "Number 4:\n",
      "Walk On By by Cyndi Lauper with 0.044 similarity score\n",
      "--------------------\n",
      "Number 5:\n",
      "Birds In The Wilderness by Children with 0.042 similarity score\n",
      "--------------------\n",
      "Number 6:\n",
      "Fordham Road by Lana Del Rey with 0.042 similarity score\n",
      "--------------------\n",
      "Number 7:\n",
      "(Up On) Cherry Blossom Hill by Heart with 0.041 similarity score\n",
      "--------------------\n",
      "Number 8:\n",
      "You'll Never Walk Alone by Josh Groban with 0.04 similarity score\n",
      "--------------------\n",
      "Number 9:\n",
      "Writing Wrongs by The Monkees with 0.039 similarity score\n",
      "--------------------\n",
      "Number 10:\n",
      "Cry For Home by Van Morrison with 0.039 similarity score\n",
      "--------------------\n"
     ]
    }
   ],
   "source": [
    "recommedations.recommend(recommendation4)"
   ]
  },
  {
   "cell_type": "code",
   "execution_count": 23,
   "id": "b57ac400",
   "metadata": {},
   "outputs": [],
   "source": [
    "recommendation6 = {\n",
    "    \"song\": songs['song'].iloc[5],\n",
    "    \"number_songs\": 10\n",
    "}"
   ]
  },
  {
   "cell_type": "code",
   "execution_count": 24,
   "id": "3b5cb323",
   "metadata": {},
   "outputs": [
    {
     "name": "stdout",
     "output_type": "stream",
     "text": [
      "The 10 recommended songs for Someone That I Used To Love are:\n",
      "Number 1:\n",
      "Get Used To Me by Justin Bieber with 0.368 similarity score\n",
      "--------------------\n",
      "Number 2:\n",
      "All You Need Is Love by Glee with 0.323 similarity score\n",
      "--------------------\n",
      "Number 3:\n",
      "Down On Love by Foreigner with 0.321 similarity score\n",
      "--------------------\n",
      "Number 4:\n",
      "I Love You by Ocean Colour Scene with 0.313 similarity score\n",
      "--------------------\n",
      "Number 5:\n",
      "Love To Love You Baby by Donna Summer with 0.312 similarity score\n",
      "--------------------\n",
      "Number 6:\n",
      "Love Song by Hillsong with 0.31 similarity score\n",
      "--------------------\n",
      "Number 7:\n",
      "But You Know I Love You by Dolly Parton with 0.303 similarity score\n",
      "--------------------\n",
      "Number 8:\n",
      "Love Is by The Script with 0.302 similarity score\n",
      "--------------------\n",
      "Number 9:\n",
      "Stand Up Comedy by U2 with 0.302 similarity score\n",
      "--------------------\n",
      "Number 10:\n",
      "Where Did The Feeling Go? by Air Supply with 0.301 similarity score\n",
      "--------------------\n"
     ]
    }
   ],
   "source": [
    "recommedations.recommend(recommendation6)"
   ]
  },
  {
   "cell_type": "code",
   "execution_count": null,
   "id": "b29dd933",
   "metadata": {},
   "outputs": [],
   "source": []
  }
 ],
 "metadata": {
  "kernelspec": {
   "display_name": "Python 3 (ipykernel)",
   "language": "python",
   "name": "python3"
  },
  "language_info": {
   "codemirror_mode": {
    "name": "ipython",
    "version": 3
   },
   "file_extension": ".py",
   "mimetype": "text/x-python",
   "name": "python",
   "nbconvert_exporter": "python",
   "pygments_lexer": "ipython3",
   "version": "3.10.4"
  }
 },
 "nbformat": 4,
 "nbformat_minor": 5
}
